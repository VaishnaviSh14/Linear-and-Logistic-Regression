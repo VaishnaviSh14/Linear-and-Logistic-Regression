{
 "cells": [
  {
   "cell_type": "markdown",
   "id": "50bc7cc1-7b53-4bd6-90ad-a0ea20e28303",
   "metadata": {},
   "source": [
    "Q1. Write a Python code to implement the KNN classifier algorithm on load_iris dataset in\n",
    "sklearn.datasets.\n"
   ]
  },
  {
   "cell_type": "code",
   "execution_count": 53,
   "id": "23f2e317-91f1-493b-947c-00219dbd3050",
   "metadata": {},
   "outputs": [],
   "source": [
    "import warnings\n",
    "warnings.filterwarnings('ignore')\n",
    "import numpy as np\n",
    "import matplotlib.pyplot as plt\n",
    "import pandas as pd"
   ]
  },
  {
   "cell_type": "code",
   "execution_count": 54,
   "id": "62dbbf8f-e3fa-4856-b3b4-cf7854459181",
   "metadata": {},
   "outputs": [],
   "source": [
    "from sklearn.datasets import load_iris"
   ]
  },
  {
   "cell_type": "code",
   "execution_count": 55,
   "id": "4d545d62-cf21-4708-b551-ad34cabee436",
   "metadata": {},
   "outputs": [],
   "source": [
    "dataset = load_iris()"
   ]
  },
  {
   "cell_type": "code",
   "execution_count": 56,
   "id": "eb96bfd9-ba36-43a4-9622-eea7f65d3132",
   "metadata": {},
   "outputs": [],
   "source": [
    "df = pd.DataFrame(dataset.data , columns = dataset.feature_names)"
   ]
  },
  {
   "cell_type": "code",
   "execution_count": 57,
   "id": "dd0a9a21-8caa-4d33-8ed5-1d7066254441",
   "metadata": {},
   "outputs": [
    {
     "data": {
      "text/html": [
       "<div>\n",
       "<style scoped>\n",
       "    .dataframe tbody tr th:only-of-type {\n",
       "        vertical-align: middle;\n",
       "    }\n",
       "\n",
       "    .dataframe tbody tr th {\n",
       "        vertical-align: top;\n",
       "    }\n",
       "\n",
       "    .dataframe thead th {\n",
       "        text-align: right;\n",
       "    }\n",
       "</style>\n",
       "<table border=\"1\" class=\"dataframe\">\n",
       "  <thead>\n",
       "    <tr style=\"text-align: right;\">\n",
       "      <th></th>\n",
       "      <th>sepal length (cm)</th>\n",
       "      <th>sepal width (cm)</th>\n",
       "      <th>petal length (cm)</th>\n",
       "      <th>petal width (cm)</th>\n",
       "    </tr>\n",
       "  </thead>\n",
       "  <tbody>\n",
       "    <tr>\n",
       "      <th>0</th>\n",
       "      <td>5.1</td>\n",
       "      <td>3.5</td>\n",
       "      <td>1.4</td>\n",
       "      <td>0.2</td>\n",
       "    </tr>\n",
       "    <tr>\n",
       "      <th>1</th>\n",
       "      <td>4.9</td>\n",
       "      <td>3.0</td>\n",
       "      <td>1.4</td>\n",
       "      <td>0.2</td>\n",
       "    </tr>\n",
       "    <tr>\n",
       "      <th>2</th>\n",
       "      <td>4.7</td>\n",
       "      <td>3.2</td>\n",
       "      <td>1.3</td>\n",
       "      <td>0.2</td>\n",
       "    </tr>\n",
       "    <tr>\n",
       "      <th>3</th>\n",
       "      <td>4.6</td>\n",
       "      <td>3.1</td>\n",
       "      <td>1.5</td>\n",
       "      <td>0.2</td>\n",
       "    </tr>\n",
       "    <tr>\n",
       "      <th>4</th>\n",
       "      <td>5.0</td>\n",
       "      <td>3.6</td>\n",
       "      <td>1.4</td>\n",
       "      <td>0.2</td>\n",
       "    </tr>\n",
       "  </tbody>\n",
       "</table>\n",
       "</div>"
      ],
      "text/plain": [
       "   sepal length (cm)  sepal width (cm)  petal length (cm)  petal width (cm)\n",
       "0                5.1               3.5                1.4               0.2\n",
       "1                4.9               3.0                1.4               0.2\n",
       "2                4.7               3.2                1.3               0.2\n",
       "3                4.6               3.1                1.5               0.2\n",
       "4                5.0               3.6                1.4               0.2"
      ]
     },
     "execution_count": 57,
     "metadata": {},
     "output_type": "execute_result"
    }
   ],
   "source": [
    "df.head()"
   ]
  },
  {
   "cell_type": "code",
   "execution_count": 58,
   "id": "2bc53e84-5c56-4a02-912e-4f05de884a3a",
   "metadata": {},
   "outputs": [],
   "source": [
    "df['Target'] = dataset.target"
   ]
  },
  {
   "cell_type": "markdown",
   "id": "02a5d6ec-b2b7-4918-9f5a-c3957c815433",
   "metadata": {},
   "source": [
    "Q2. Implement a function to standardise the features before applying KNN classifier.\n"
   ]
  },
  {
   "cell_type": "code",
   "execution_count": 59,
   "id": "7cb4f373-6416-4b5d-93c9-e075c27977d3",
   "metadata": {},
   "outputs": [],
   "source": [
    "X = df.iloc[:,:-1]\n",
    "y = df.iloc[:,-1]"
   ]
  },
  {
   "cell_type": "code",
   "execution_count": 60,
   "id": "f955877b-9197-4aed-8b2f-59e47dbf7500",
   "metadata": {},
   "outputs": [],
   "source": [
    "from sklearn.preprocessing import StandardScaler"
   ]
  },
  {
   "cell_type": "code",
   "execution_count": 61,
   "id": "6fa8cbec-557a-492a-8bfe-09dfde9cdc72",
   "metadata": {},
   "outputs": [],
   "source": [
    "scaler = StandardScaler()"
   ]
  },
  {
   "cell_type": "code",
   "execution_count": 62,
   "id": "c67aae14-946a-4b8f-9092-f43c8230f3d8",
   "metadata": {},
   "outputs": [],
   "source": [
    "X_train = scaler.fit_transform(X_test)\n",
    "X_test  = scaler.transform(X_test)"
   ]
  },
  {
   "cell_type": "code",
   "execution_count": 63,
   "id": "610539ad-72a5-4b1c-a818-03b21412d99d",
   "metadata": {},
   "outputs": [],
   "source": [
    "from sklearn.model_selection import train_test_split\n",
    "X_train,X_test,y_train,y_test = train_test_split(X,y,test_size = 0.33,random_state = 42)"
   ]
  },
  {
   "cell_type": "code",
   "execution_count": 64,
   "id": "2bf85ef5-4fee-418e-aad7-99211d6f6c9a",
   "metadata": {},
   "outputs": [
    {
     "data": {
      "text/plain": [
       "((100, 4), (50, 4), (100,), (50,))"
      ]
     },
     "execution_count": 64,
     "metadata": {},
     "output_type": "execute_result"
    }
   ],
   "source": [
    "X_train.shape,X_test.shape,y_train.shape,y_test.shape "
   ]
  },
  {
   "cell_type": "code",
   "execution_count": 65,
   "id": "855720ce-ec75-4196-9d82-e7b4f5b844a7",
   "metadata": {},
   "outputs": [],
   "source": [
    "from sklearn.neighbors import KNeighborsClassifier"
   ]
  },
  {
   "cell_type": "code",
   "execution_count": 66,
   "id": "68c2aae1-8313-4755-aec0-b3d7bd25b66a",
   "metadata": {},
   "outputs": [],
   "source": [
    "knn = KNeighborsClassifier(n_neighbors=5 , algorithm='auto')"
   ]
  },
  {
   "cell_type": "code",
   "execution_count": 67,
   "id": "91474f32-5674-4d67-b419-f6df94f2c330",
   "metadata": {},
   "outputs": [
    {
     "data": {
      "text/plain": [
       "KNeighborsClassifier()"
      ]
     },
     "execution_count": 67,
     "metadata": {},
     "output_type": "execute_result"
    }
   ],
   "source": [
    "knn.fit(X_train,y_train)"
   ]
  },
  {
   "cell_type": "code",
   "execution_count": 68,
   "id": "7297d216-dbc8-4ba2-8c24-0be8ebb66ff3",
   "metadata": {},
   "outputs": [],
   "source": [
    "y_pred = knn.predict(X_test)"
   ]
  },
  {
   "cell_type": "code",
   "execution_count": 69,
   "id": "fb11772f-502e-4b30-aeab-369e36069de4",
   "metadata": {},
   "outputs": [
    {
     "data": {
      "text/plain": [
       "array([1, 0, 2, 1, 1, 0, 1, 2, 1, 1, 2, 0, 0, 0, 0, 1, 2, 1, 1, 2, 0, 2,\n",
       "       0, 2, 2, 2, 2, 2, 0, 0, 0, 0, 1, 0, 0, 2, 1, 0, 0, 0, 2, 1, 1, 0,\n",
       "       0, 1, 1, 2, 1, 2])"
      ]
     },
     "execution_count": 69,
     "metadata": {},
     "output_type": "execute_result"
    }
   ],
   "source": [
    "y_pred"
   ]
  },
  {
   "cell_type": "code",
   "execution_count": 70,
   "id": "afe9a87b-c5c1-49d0-b26c-1eaf38fd3d48",
   "metadata": {},
   "outputs": [],
   "source": [
    "from sklearn.metrics import accuracy_score,classification_report,confusion_matrix"
   ]
  },
  {
   "cell_type": "code",
   "execution_count": 71,
   "id": "a32b0ad2-ad8c-493d-b56f-38a3bd5ce453",
   "metadata": {},
   "outputs": [
    {
     "name": "stdout",
     "output_type": "stream",
     "text": [
      "0.98\n",
      "              precision    recall  f1-score   support\n",
      "\n",
      "           0       1.00      1.00      1.00        19\n",
      "           1       0.94      1.00      0.97        15\n",
      "           2       1.00      0.94      0.97        16\n",
      "\n",
      "    accuracy                           0.98        50\n",
      "   macro avg       0.98      0.98      0.98        50\n",
      "weighted avg       0.98      0.98      0.98        50\n",
      "\n",
      "[[19  0  0]\n",
      " [ 0 15  0]\n",
      " [ 0  1 15]]\n"
     ]
    }
   ],
   "source": [
    "print(accuracy_score(y_test,y_pred))\n",
    "print(classification_report(y_test,y_pred))\n",
    "print(confusion_matrix(y_test,y_pred))"
   ]
  },
  {
   "cell_type": "markdown",
   "id": "147128a0-df46-4956-b93c-9c8d3c49b7d1",
   "metadata": {},
   "source": [
    "Q3. Write a Python code snippet to find the optimal value of K for the KNN classifier algorithm using\n",
    "cross-validation on load_iris dataset in sklearn.datasets."
   ]
  },
  {
   "cell_type": "code",
   "execution_count": 72,
   "id": "65cc1e13-43ff-4d6b-9c9c-f5dfe5a93f95",
   "metadata": {},
   "outputs": [],
   "source": [
    "from sklearn.model_selection import GridSearchCV"
   ]
  },
  {
   "cell_type": "code",
   "execution_count": 73,
   "id": "3136671f-52b6-46c3-81b5-ef6de21d2249",
   "metadata": {},
   "outputs": [],
   "source": [
    "params = {\n",
    "    'n_neighbors':[1,2,3,4,5,6]\n",
    "}"
   ]
  },
  {
   "cell_type": "code",
   "execution_count": 74,
   "id": "e8bfd213-9085-4a6b-926e-f5b018fbd895",
   "metadata": {},
   "outputs": [],
   "source": [
    "clf = GridSearchCV(knn , param_grid = params)"
   ]
  },
  {
   "cell_type": "code",
   "execution_count": 75,
   "id": "59bb4c46-9cc9-40eb-9bf0-70c41bf26135",
   "metadata": {},
   "outputs": [
    {
     "data": {
      "text/plain": [
       "GridSearchCV(estimator=KNeighborsClassifier(),\n",
       "             param_grid={'n_neighbors': [1, 2, 3, 4, 5, 6]})"
      ]
     },
     "execution_count": 75,
     "metadata": {},
     "output_type": "execute_result"
    }
   ],
   "source": [
    "clf.fit(X_train,y_train)"
   ]
  },
  {
   "cell_type": "code",
   "execution_count": 76,
   "id": "0a01e47a-de85-4522-b8f9-aa9d569b7992",
   "metadata": {},
   "outputs": [
    {
     "data": {
      "text/plain": [
       "{'n_neighbors': 1}"
      ]
     },
     "execution_count": 76,
     "metadata": {},
     "output_type": "execute_result"
    }
   ],
   "source": [
    "clf.best_params_"
   ]
  },
  {
   "cell_type": "markdown",
   "id": "a2069bd7-081f-4908-a507-49c6454e2d15",
   "metadata": {},
   "source": [
    "Q3. Write a Python code snippet to implement the KNN classifier algorithm with weighted voting on\n",
    "load_iris dataset in sklearn.datasets."
   ]
  },
  {
   "cell_type": "code",
   "execution_count": 77,
   "id": "176b0a56-4bf6-4293-ae40-7b50d348f3a6",
   "metadata": {},
   "outputs": [],
   "source": [
    "knn = KNeighborsClassifier(n_neighbors=5 , algorithm='auto',weights='distance')"
   ]
  },
  {
   "cell_type": "code",
   "execution_count": 78,
   "id": "b0851a09-8ebf-47ba-a892-1ece816a9776",
   "metadata": {},
   "outputs": [
    {
     "data": {
      "text/plain": [
       "KNeighborsClassifier(weights='distance')"
      ]
     },
     "execution_count": 78,
     "metadata": {},
     "output_type": "execute_result"
    }
   ],
   "source": [
    "knn.fit(X_train,y_train)"
   ]
  },
  {
   "cell_type": "code",
   "execution_count": 79,
   "id": "ed7bddcb-352c-4056-830c-4bf152725706",
   "metadata": {},
   "outputs": [],
   "source": [
    "y_pred1 = knn.predict(X_test)"
   ]
  },
  {
   "cell_type": "code",
   "execution_count": 80,
   "id": "01924a7e-5fb8-478f-93c5-4bded4c4a5e1",
   "metadata": {},
   "outputs": [
    {
     "name": "stdout",
     "output_type": "stream",
     "text": [
      "0.98\n",
      "              precision    recall  f1-score   support\n",
      "\n",
      "           0       1.00      1.00      1.00        19\n",
      "           1       0.94      1.00      0.97        15\n",
      "           2       1.00      0.94      0.97        16\n",
      "\n",
      "    accuracy                           0.98        50\n",
      "   macro avg       0.98      0.98      0.98        50\n",
      "weighted avg       0.98      0.98      0.98        50\n",
      "\n",
      "[[19  0  0]\n",
      " [ 0 15  0]\n",
      " [ 0  1 15]]\n"
     ]
    }
   ],
   "source": [
    "print(accuracy_score(y_test,y_pred1))\n",
    "print(classification_report(y_test,y_pred1))\n",
    "print(confusion_matrix(y_test,y_pred1))"
   ]
  },
  {
   "cell_type": "code",
   "execution_count": null,
   "id": "109d1030-cc62-4785-9840-5867467ce66e",
   "metadata": {},
   "outputs": [],
   "source": []
  },
  {
   "cell_type": "markdown",
   "id": "ac25bac6-7475-4fa7-88eb-f0556f9e1dbe",
   "metadata": {},
   "source": [
    "Q4. Write a Python code to implement the KNN regressor algorithm on load_boston dataset in\n",
    "sklearn.datasets.\n",
    "\n",
    "Q5. Implement the KNN regressor algorithm with feature scaling on load_boston dataset in\n",
    "sklearn.datasets."
   ]
  },
  {
   "cell_type": "code",
   "execution_count": 81,
   "id": "5b80faea-ea77-463c-83da-7add5824c5d1",
   "metadata": {},
   "outputs": [],
   "source": [
    "import numpy as np\n",
    "import matplotlib.pyplot as plt\n",
    "import pandas as pd"
   ]
  },
  {
   "cell_type": "code",
   "execution_count": 82,
   "id": "8d9234fc-599e-4c4d-88bf-0f639d0ceb21",
   "metadata": {},
   "outputs": [
    {
     "name": "stdout",
     "output_type": "stream",
     "text": [
      "Requirement already satisfied: scikit-learn==1.0.2 in /opt/conda/lib/python3.10/site-packages (1.0.2)\n",
      "Requirement already satisfied: threadpoolctl>=2.0.0 in /opt/conda/lib/python3.10/site-packages (from scikit-learn==1.0.2) (3.1.0)\n",
      "Requirement already satisfied: joblib>=0.11 in /opt/conda/lib/python3.10/site-packages (from scikit-learn==1.0.2) (1.2.0)\n",
      "Requirement already satisfied: numpy>=1.14.6 in /opt/conda/lib/python3.10/site-packages (from scikit-learn==1.0.2) (1.23.5)\n",
      "Requirement already satisfied: scipy>=1.1.0 in /opt/conda/lib/python3.10/site-packages (from scikit-learn==1.0.2) (1.9.3)\n"
     ]
    }
   ],
   "source": [
    "!pip install scikit-learn==1.0.2\n"
   ]
  },
  {
   "cell_type": "code",
   "execution_count": 88,
   "id": "86fd3b77-3123-499d-810a-ee114825e3ad",
   "metadata": {},
   "outputs": [],
   "source": [
    "from sklearn.datasets import load_boston\n",
    "boston = load_boston()"
   ]
  },
  {
   "cell_type": "code",
   "execution_count": 89,
   "id": "96b18edb-059f-4b3d-885a-709661570fd8",
   "metadata": {},
   "outputs": [],
   "source": [
    "bos = pd.DataFrame(boston.data , columns = boston.feature_names)"
   ]
  },
  {
   "cell_type": "code",
   "execution_count": 90,
   "id": "51da08f4-4b21-4500-a306-dddd3f9f7447",
   "metadata": {},
   "outputs": [
    {
     "data": {
      "text/plain": [
       "<bound method NDFrame.head of         CRIM    ZN  INDUS  CHAS    NOX     RM   AGE     DIS  RAD    TAX  \\\n",
       "0    0.00632  18.0   2.31   0.0  0.538  6.575  65.2  4.0900  1.0  296.0   \n",
       "1    0.02731   0.0   7.07   0.0  0.469  6.421  78.9  4.9671  2.0  242.0   \n",
       "2    0.02729   0.0   7.07   0.0  0.469  7.185  61.1  4.9671  2.0  242.0   \n",
       "3    0.03237   0.0   2.18   0.0  0.458  6.998  45.8  6.0622  3.0  222.0   \n",
       "4    0.06905   0.0   2.18   0.0  0.458  7.147  54.2  6.0622  3.0  222.0   \n",
       "..       ...   ...    ...   ...    ...    ...   ...     ...  ...    ...   \n",
       "501  0.06263   0.0  11.93   0.0  0.573  6.593  69.1  2.4786  1.0  273.0   \n",
       "502  0.04527   0.0  11.93   0.0  0.573  6.120  76.7  2.2875  1.0  273.0   \n",
       "503  0.06076   0.0  11.93   0.0  0.573  6.976  91.0  2.1675  1.0  273.0   \n",
       "504  0.10959   0.0  11.93   0.0  0.573  6.794  89.3  2.3889  1.0  273.0   \n",
       "505  0.04741   0.0  11.93   0.0  0.573  6.030  80.8  2.5050  1.0  273.0   \n",
       "\n",
       "     PTRATIO       B  LSTAT  \n",
       "0       15.3  396.90   4.98  \n",
       "1       17.8  396.90   9.14  \n",
       "2       17.8  392.83   4.03  \n",
       "3       18.7  394.63   2.94  \n",
       "4       18.7  396.90   5.33  \n",
       "..       ...     ...    ...  \n",
       "501     21.0  391.99   9.67  \n",
       "502     21.0  396.90   9.08  \n",
       "503     21.0  396.90   5.64  \n",
       "504     21.0  393.45   6.48  \n",
       "505     21.0  396.90   7.88  \n",
       "\n",
       "[506 rows x 13 columns]>"
      ]
     },
     "execution_count": 90,
     "metadata": {},
     "output_type": "execute_result"
    }
   ],
   "source": [
    "bos.head"
   ]
  },
  {
   "cell_type": "code",
   "execution_count": 93,
   "id": "5e19e2d0-b40e-4651-aba3-b087a3dfb99c",
   "metadata": {},
   "outputs": [],
   "source": [
    "bos['Target'] = boston.target"
   ]
  },
  {
   "cell_type": "code",
   "execution_count": 96,
   "id": "404a1b74-b4bd-4083-8997-3ab84e05f0c8",
   "metadata": {},
   "outputs": [],
   "source": [
    "X = bos.iloc[:,:-1]\n",
    "y = bos.iloc[:,-1]"
   ]
  },
  {
   "cell_type": "code",
   "execution_count": 98,
   "id": "79e9a497-9a4a-4a7e-b193-4c40cf54baae",
   "metadata": {},
   "outputs": [],
   "source": [
    "from sklearn.preprocessing import StandardScaler"
   ]
  },
  {
   "cell_type": "code",
   "execution_count": 99,
   "id": "6529391b-0e8f-4668-9353-c33e6c223001",
   "metadata": {},
   "outputs": [],
   "source": [
    "st = StandardScaler()"
   ]
  },
  {
   "cell_type": "code",
   "execution_count": 100,
   "id": "dee5c1a6-53b1-4fd4-87c1-8845ed4b400d",
   "metadata": {},
   "outputs": [],
   "source": [
    "X_train = scaler.fit_transform(X_test)\n",
    "X_test  = scaler.transform(X_test)"
   ]
  },
  {
   "cell_type": "code",
   "execution_count": 101,
   "id": "1552285b-34c6-4ce7-8cce-bf18bfaf1cae",
   "metadata": {},
   "outputs": [],
   "source": [
    "from sklearn.model_selection import train_test_split\n",
    "X_train,X_test,y_train,y_test = train_test_split(X,y,test_size = 0.33,random_state = 42)"
   ]
  },
  {
   "cell_type": "code",
   "execution_count": 102,
   "id": "e4fa1138-cf43-429c-b6e8-9ecb34cd83ac",
   "metadata": {},
   "outputs": [],
   "source": [
    "from sklearn.neighbors import KNeighborsRegressor"
   ]
  },
  {
   "cell_type": "code",
   "execution_count": 103,
   "id": "251d00c0-b43d-4663-bb13-74557abc9a59",
   "metadata": {},
   "outputs": [],
   "source": [
    "knr = KNeighborsRegressor()"
   ]
  },
  {
   "cell_type": "code",
   "execution_count": 104,
   "id": "a030ae99-bc55-4357-82e7-b4ad52bd8e1a",
   "metadata": {},
   "outputs": [
    {
     "data": {
      "text/plain": [
       "KNeighborsRegressor()"
      ]
     },
     "execution_count": 104,
     "metadata": {},
     "output_type": "execute_result"
    }
   ],
   "source": [
    "knr.fit(X_train,y_train)"
   ]
  },
  {
   "cell_type": "code",
   "execution_count": 105,
   "id": "8e7cdff5-6414-4857-bbf1-17589a63a56e",
   "metadata": {},
   "outputs": [],
   "source": [
    "y_pred = knr.predict(X_test)"
   ]
  },
  {
   "cell_type": "code",
   "execution_count": 106,
   "id": "6f4f4654-7208-4ba1-aa1c-e0393a2b9e7a",
   "metadata": {},
   "outputs": [
    {
     "data": {
      "text/plain": [
       "array([24.54, 29.34, 14.6 , 28.94, 17.44, 31.88, 20.58, 16.06, 18.02,\n",
       "       21.18, 21.9 , 21.36, 12.28, 20.56, 23.7 , 21.74, 21.18, 14.06,\n",
       "       33.72, 10.6 , 25.86, 29.34, 19.7 , 21.08, 18.88, 23.16, 21.88,\n",
       "       12.34, 21.9 , 21.18, 22.68, 23.14, 10.3 , 30.04, 17.54, 21.12,\n",
       "       21.66, 22.92, 22.52, 29.08, 21.18, 27.98, 38.82, 22.4 , 24.84,\n",
       "       12.6 , 19.7 , 28.94, 19.8 , 22.22, 22.44, 34.7 , 22.04, 21.18,\n",
       "       29.72, 21.38, 12.5 , 35.04, 21.82, 20.6 , 25.3 , 38.82, 28.68,\n",
       "       16.26, 30.46, 24.24, 12.24, 25.3 , 35.04, 12.34, 23.94, 22.52,\n",
       "       14.82, 30.38, 20.56,  8.98, 19.68, 38.82, 10.94, 15.04, 22.4 ,\n",
       "       15.96, 26.3 , 12.24, 22.02, 34.  , 14.16, 22.58, 26.04, 17.86,\n",
       "       24.5 , 15.22, 17.48, 21.76, 24.76, 17.86, 30.16, 10.76, 10.76,\n",
       "       11.92, 21.82, 20.56, 23.16, 21.28, 22.22, 10.88, 23.96, 24.56,\n",
       "       26.74, 26.3 ,  9.98, 15.74, 23.46, 33.72, 33.46, 15.22, 27.9 ,\n",
       "       17.2 , 22.76, 22.44, 24.78, 31.62,  9.78, 18.74, 24.38, 23.28,\n",
       "       28.28, 24.22, 16.98, 31.86, 20.3 , 20.56, 17.28, 17.4 , 18.18,\n",
       "       12.28, 23.46, 33.72, 29.68, 22.04, 22.4 , 29.1 , 26.74, 21.62,\n",
       "       23.16, 34.6 , 21.6 , 13.68, 20.36, 31.48, 15.22, 14.58, 22.36,\n",
       "       19.18, 23.94, 29.62, 19.44, 32.48, 23.46,  9.58, 33.62, 21.56,\n",
       "       22.76, 23.14, 30.22, 22.08, 39.32])"
      ]
     },
     "execution_count": 106,
     "metadata": {},
     "output_type": "execute_result"
    }
   ],
   "source": [
    "y_pred"
   ]
  },
  {
   "cell_type": "code",
   "execution_count": 84,
   "id": "05d01fd3-4651-4495-8c08-5a3d82cfc766",
   "metadata": {},
   "outputs": [],
   "source": [
    "#Q7. Write a Python function to calculate the euclidean distance between two points.\n",
    "def euclidean_distance(p1, p2):\n",
    "  distance = 0\n",
    "  for i in range(len(p1)):\n",
    "    distance += (p1[i] - p2[i])**2\n",
    "  return np.sqrt(distance)\n"
   ]
  },
  {
   "cell_type": "code",
   "execution_count": 85,
   "id": "de297bb4-c89e-43f1-82ae-ef15b8688d5b",
   "metadata": {},
   "outputs": [
    {
     "name": "stdout",
     "output_type": "stream",
     "text": [
      "4.242640687119285\n"
     ]
    }
   ],
   "source": [
    "p1 = [1, 2]\n",
    "p2 = [4, 5]\n",
    "\n",
    "distance = euclidean_distance(p1, p2)\n",
    "\n",
    "print(distance)"
   ]
  },
  {
   "cell_type": "code",
   "execution_count": 86,
   "id": "bef7df5e-5fa7-4827-bc7e-640af377bd94",
   "metadata": {},
   "outputs": [],
   "source": [
    "#Q8. Write a Python function to calculate the manhattan distance between two points.\n",
    "def manhattan_distance(p1, p2):\n",
    "\n",
    "  distance = 0\n",
    "  for i in range(len(p1)):\n",
    "    distance += abs(p1[i] - p2[i])\n",
    "  return distance"
   ]
  },
  {
   "cell_type": "code",
   "execution_count": 87,
   "id": "61acb760-e0ee-4f3b-b1a6-b2702dccc2e4",
   "metadata": {},
   "outputs": [
    {
     "name": "stdout",
     "output_type": "stream",
     "text": [
      "6\n"
     ]
    }
   ],
   "source": [
    "p1 = [1, 2]\n",
    "p2 = [4, 5]\n",
    "\n",
    "distance = manhattan_distance(p1, p2)\n",
    "\n",
    "print(distance)"
   ]
  },
  {
   "cell_type": "code",
   "execution_count": null,
   "id": "741f1dde-aebc-4d41-bfce-58fc8ab2cf80",
   "metadata": {},
   "outputs": [],
   "source": []
  },
  {
   "cell_type": "code",
   "execution_count": null,
   "id": "8822592b-5828-4df6-adc7-c28fe1b3376e",
   "metadata": {},
   "outputs": [],
   "source": []
  }
 ],
 "metadata": {
  "kernelspec": {
   "display_name": "Python 3 (ipykernel)",
   "language": "python",
   "name": "python3"
  },
  "language_info": {
   "codemirror_mode": {
    "name": "ipython",
    "version": 3
   },
   "file_extension": ".py",
   "mimetype": "text/x-python",
   "name": "python",
   "nbconvert_exporter": "python",
   "pygments_lexer": "ipython3",
   "version": "3.10.8"
  }
 },
 "nbformat": 4,
 "nbformat_minor": 5
}
